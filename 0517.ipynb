{
  "nbformat": 4,
  "nbformat_minor": 0,
  "metadata": {
    "colab": {
      "provenance": [],
      "authorship_tag": "ABX9TyMDNqY6ua9GJsNouucdjyx4",
      "include_colab_link": true
    },
    "kernelspec": {
      "name": "python3",
      "display_name": "Python 3"
    },
    "language_info": {
      "name": "python"
    }
  },
  "cells": [
    {
      "cell_type": "markdown",
      "metadata": {
        "id": "view-in-github",
        "colab_type": "text"
      },
      "source": [
        "<a href=\"https://colab.research.google.com/github/HongCCAngel/Introduction-to-Computers/blob/main/0517.ipynb\" target=\"_parent\"><img src=\"https://colab.research.google.com/assets/colab-badge.svg\" alt=\"Open In Colab\"/></a>"
      ]
    },
    {
      "cell_type": "code",
      "execution_count": null,
      "metadata": {
        "id": "N4SONlchx87c",
        "colab": {
          "base_uri": "https://localhost:8080/"
        },
        "outputId": "25f5ccd1-6f0b-4b7a-a743-7bb46fdd5e5e"
      },
      "outputs": [
        {
          "output_type": "stream",
          "name": "stdout",
          "text": [
            "0517\n"
          ]
        }
      ],
      "source": [
        "print(\"0517\")"
      ]
    },
    {
      "cell_type": "code",
      "source": [
        "score=int(input(\"score:\"))\n",
        "if score>=90:\n",
        "  print(\"Grade is : A\")\n",
        "elif score>=80:\n",
        "  print(\"Grade is : B\")\n",
        "elif score >=70:\n",
        "  print(\"Grade is : C\")\n",
        "elif score >=60:\n",
        "  print(\"Grade is : D\")\n",
        "else:\n",
        "  print(\"Grade is : F\")"
      ],
      "metadata": {
        "colab": {
          "base_uri": "https://localhost:8080/"
        },
        "id": "mpNyYxIFzfPb",
        "outputId": "66fabcce-0268-4556-945e-86ab35512a69"
      },
      "execution_count": null,
      "outputs": [
        {
          "output_type": "stream",
          "name": "stdout",
          "text": [
            "score:100\n",
            "Grade is : A\n"
          ]
        }
      ]
    },
    {
      "cell_type": "code",
      "source": [
        "rain=str(input(\"今天會下雨嗎？\"))\n",
        "if(rain ==\"Y\" or rain==\"y\"):\n",
        "  print(\"出門記得帶傘!\")\n",
        "elif(rain ==\"N\" or rain==\"n\"):\n",
        "  print(\"不用帶傘!\")\n",
        "else:\n",
        "  print(\"請重新輸入!\")"
      ],
      "metadata": {
        "colab": {
          "base_uri": "https://localhost:8080/"
        },
        "id": "jXTtXy3rVKcD",
        "outputId": "57174a6f-5cd5-4dfc-a241-a94d2a5c7c5c"
      },
      "execution_count": 5,
      "outputs": [
        {
          "output_type": "stream",
          "name": "stdout",
          "text": [
            "今天會下雨嗎？y\n",
            "出門記得帶傘!\n"
          ]
        }
      ]
    },
    {
      "cell_type": "code",
      "source": [
        "temperature=float(input(\"請輸入體溫：\"))\n",
        "if temperature >=37.5:\n",
        "  print(\"體溫過高!\")\n",
        "elif temperature >=37 and temperature <=37.4:\n",
        "  print(\"體溫略高!\")\n",
        "elif temperature >=34 and temperature <=36.9:\n",
        "  print(\"體溫正常!\")\n",
        "else:\n",
        "  print(\"體溫異常，請重新測量!\")"
      ],
      "metadata": {
        "colab": {
          "base_uri": "https://localhost:8080/"
        },
        "id": "RLhhscPTaDtJ",
        "outputId": "795aeb16-dff8-418e-985a-71a3c972517b"
      },
      "execution_count": 35,
      "outputs": [
        {
          "output_type": "stream",
          "name": "stdout",
          "text": [
            "請輸入體溫：20\n",
            "體溫異常，請重新測量!\n"
          ]
        }
      ]
    },
    {
      "cell_type": "code",
      "source": [
        "score=int(input(\"請使用者輸入成績:\"))\n",
        "if score>=90:\n",
        "  print(\"A\")\n",
        "elif score>=80:\n",
        "  print(\"B\")\n",
        "elif score >=70:\n",
        "  print(\"C\")\n",
        "elif score >=60:\n",
        "  print(\"D\")\n",
        "else:\n",
        "  print(\"F\")"
      ],
      "metadata": {
        "colab": {
          "base_uri": "https://localhost:8080/"
        },
        "id": "_JmH3N_QbVng",
        "outputId": "6757b48a-8288-47be-e0ee-0889c7d441e7"
      },
      "execution_count": 42,
      "outputs": [
        {
          "output_type": "stream",
          "name": "stdout",
          "text": [
            "請使用者輸入成績:89\n",
            "B\n"
          ]
        }
      ]
    },
    {
      "cell_type": "code",
      "source": [
        "month=int(input(\"請輸入月份：\"))\n",
        "if month >=3 and month <=5:\n",
        "  print(str(month)+\"月是春天!\")\n",
        "elif month >=6 and month<=8:\n",
        "  print(str(month)+\"月是夏天!\")\n",
        "elif month >=9 and month<=11:\n",
        "  print(str(month)+\"月是秋天!\")\n",
        "elif month >=1 and month <=2:\n",
        "  print(str(month)+\"月是冬天!\")\n",
        "elif month ==12:\n",
        "  print(str(month)+\"月是冬天!\")\n",
        "else:\n",
        "  print(\"月份不再範圍內\")"
      ],
      "metadata": {
        "colab": {
          "base_uri": "https://localhost:8080/"
        },
        "id": "x1i6i4atbrfE",
        "outputId": "5b4b9012-d67c-4002-bcf6-d36cb4f69ef9"
      },
      "execution_count": 60,
      "outputs": [
        {
          "output_type": "stream",
          "name": "stdout",
          "text": [
            "請輸入月份：8\n",
            "8月是夏天!\n"
          ]
        }
      ]
    },
    {
      "cell_type": "code",
      "source": [
        "income=int(input(\"請輸入今年收入金額:\"))\n",
        "if income >=300000:\n",
        "  if income >= 2000000:\n",
        "    incometax = income*0.3\n",
        "  elif income >= 1000000:\n",
        "    incometax = income*0.21\n",
        "  elif income >= 600000:\n",
        "    incometax = income*0.13\n",
        "  else:\n",
        "    incometax = income*0.06\n",
        "else:\n",
        "  incometax = 0\n",
        "print(\"賦稅金額:\"+str(incometax))\n",
        "\n"
      ],
      "metadata": {
        "colab": {
          "base_uri": "https://localhost:8080/"
        },
        "id": "Xwk1Q_qMcirG",
        "outputId": "d55335e3-effc-41c7-a7bd-7245dfc501a9"
      },
      "execution_count": 58,
      "outputs": [
        {
          "output_type": "stream",
          "name": "stdout",
          "text": [
            "請輸入今年收入金額:2000000\n",
            "賦稅金額:600000.0\n"
          ]
        }
      ]
    }
  ]
}