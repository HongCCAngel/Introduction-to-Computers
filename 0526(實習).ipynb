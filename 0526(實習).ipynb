{
  "nbformat": 4,
  "nbformat_minor": 0,
  "metadata": {
    "colab": {
      "provenance": [],
      "authorship_tag": "ABX9TyMGluPhQpFKQsJYjzDFKd1o",
      "include_colab_link": true
    },
    "kernelspec": {
      "name": "python3",
      "display_name": "Python 3"
    },
    "language_info": {
      "name": "python"
    }
  },
  "cells": [
    {
      "cell_type": "markdown",
      "metadata": {
        "id": "view-in-github",
        "colab_type": "text"
      },
      "source": [
        "<a href=\"https://colab.research.google.com/github/HongCCAngel/Introduction-to-Computers/blob/main/0526(%E5%AF%A6%E7%BF%92).ipynb\" target=\"_parent\"><img src=\"https://colab.research.google.com/assets/colab-badge.svg\" alt=\"Open In Colab\"/></a>"
      ]
    },
    {
      "cell_type": "code",
      "execution_count": 1,
      "metadata": {
        "colab": {
          "base_uri": "https://localhost:8080/"
        },
        "id": "WtDykcjFEGV-",
        "outputId": "0c60f01a-d994-4ab3-eddd-f04d9ebc1b2d"
      },
      "outputs": [
        {
          "output_type": "stream",
          "name": "stdout",
          "text": [
            "請輸入一個正整數13\n",
            "1 2 3 4 5 6 7 8 9 10 11 12 13 "
          ]
        }
      ],
      "source": [
        "num=int(input(\"請輸入一個正整數\"))\n",
        "for i in range(1,num+1):\n",
        "  print(i,end=' ')"
      ]
    },
    {
      "cell_type": "code",
      "source": [
        "x=42\n",
        "y=24\n",
        "print(\"這是兩個整數: %d 和 %d\" % (x, y))"
      ],
      "metadata": {
        "colab": {
          "base_uri": "https://localhost:8080/"
        },
        "id": "g6z224okGWc7",
        "outputId": "59bcacbd-41f4-421b-df66-9c2f28216218"
      },
      "execution_count": 10,
      "outputs": [
        {
          "output_type": "stream",
          "name": "stdout",
          "text": [
            "這是兩個整數: 42 和 24\n"
          ]
        }
      ]
    },
    {
      "cell_type": "code",
      "source": [
        "n = int(input(\"請輸入一個正整數: \"))\n",
        "for i in range(1,n+1):\n",
        "  p_sum = sum(range(1, i+1))\n",
        "  print(\"1到%d的總合為: %d\" %(i, p_sum))"
      ],
      "metadata": {
        "colab": {
          "base_uri": "https://localhost:8080/"
        },
        "id": "KW7kwAgvGl3U",
        "outputId": "162eee05-c7b1-4a5c-9a96-88fe0747f393"
      },
      "execution_count": 13,
      "outputs": [
        {
          "output_type": "stream",
          "name": "stdout",
          "text": [
            "請輸入一個正整數: 8\n",
            "1到1的總合為: 1\n",
            "1到2的總合為: 3\n",
            "1到3的總合為: 6\n",
            "1到4的總合為: 10\n",
            "1到5的總合為: 15\n",
            "1到6的總合為: 21\n",
            "1到7的總合為: 28\n",
            "1到8的總合為: 36\n"
          ]
        }
      ]
    },
    {
      "cell_type": "code",
      "source": [
        "a=input(\"請輸入字串: \")\n",
        "for i in range(len(a)):\n",
        "  if(i % 2 != 0):\n",
        "    print(a[i].upper(),end='')\n",
        "  else:\n",
        "    print(a[i].lower(),end='')"
      ],
      "metadata": {
        "colab": {
          "base_uri": "https://localhost:8080/"
        },
        "id": "sEBBeEJmIu-8",
        "outputId": "f94c7e49-4c68-4350-b378-dc1b29913713"
      },
      "execution_count": 8,
      "outputs": [
        {
          "output_type": "stream",
          "name": "stdout",
          "text": [
            "請輸入字串: panda\n",
            "pAnDa"
          ]
        }
      ]
    },
    {
      "cell_type": "code",
      "source": [
        "n=int(input(\"請輸入整數:\"))\n",
        "for i in range(1,n+1):\n",
        "  for j in range(i):\n",
        "    print(\"*\",end=\" \")\n",
        "  print()"
      ],
      "metadata": {
        "colab": {
          "base_uri": "https://localhost:8080/"
        },
        "id": "Q5wmreXMJu25",
        "outputId": "7ee2c449-7918-4d95-c105-fb1ecdf7c05e"
      },
      "execution_count": 11,
      "outputs": [
        {
          "output_type": "stream",
          "name": "stdout",
          "text": [
            "請輸入整數:5\n",
            "* \n",
            "* * \n",
            "* * * \n",
            "* * * * \n",
            "* * * * * \n"
          ]
        }
      ]
    },
    {
      "cell_type": "code",
      "source": [
        "n=int(input(\"請輸入整數:\"))\n",
        "for i in range(1,n+1):\n",
        "  for j in range(i):\n",
        "    print(j+1,end=\" \")\n",
        "  print()"
      ],
      "metadata": {
        "colab": {
          "base_uri": "https://localhost:8080/"
        },
        "id": "PKp0L8b4JvC2",
        "outputId": "bc4e2bbf-014c-4a77-b1d2-886a67ced905"
      },
      "execution_count": 12,
      "outputs": [
        {
          "output_type": "stream",
          "name": "stdout",
          "text": [
            "請輸入整數:5\n",
            "1 \n",
            "1 2 \n",
            "1 2 3 \n",
            "1 2 3 4 \n",
            "1 2 3 4 5 \n"
          ]
        }
      ]
    },
    {
      "cell_type": "code",
      "source": [
        "n=int(input(\"請輸入整數:\"))\n",
        "for i in range(1,n+1,1):\n",
        "  for j in range(i):\n",
        "    print(\"!\",end=\" \")\n",
        "  print()"
      ],
      "metadata": {
        "colab": {
          "base_uri": "https://localhost:8080/"
        },
        "id": "wNBhtQ03MymC",
        "outputId": "c22c3e77-43d4-446c-9ed8-fda00aa8318a"
      },
      "execution_count": 20,
      "outputs": [
        {
          "output_type": "stream",
          "name": "stdout",
          "text": [
            "請輸入整數:5\n",
            "! \n",
            "! ! \n",
            "! ! ! \n",
            "! ! ! ! \n",
            "! ! ! ! ! \n"
          ]
        }
      ]
    },
    {
      "cell_type": "code",
      "source": [
        "n=int(input(\"請輸入整數: \"))\n",
        "def right_triangle4(n):\n",
        "\tfor x in range(n):\n",
        "\t    for y in range(n-x-1):\n",
        "\t        print(' ',end=' ')\n",
        "\t    for z in range(x+1):\n",
        "\t        print('!',end=' ')\n",
        "\t    print('\\n',end='')\n",
        "\n",
        "right_triangle4(n)"
      ],
      "metadata": {
        "colab": {
          "base_uri": "https://localhost:8080/"
        },
        "id": "Aox9P8VMOvmL",
        "outputId": "50773468-f7f0-4587-8406-81a294de2a76"
      },
      "execution_count": 27,
      "outputs": [
        {
          "output_type": "stream",
          "name": "stdout",
          "text": [
            "請輸入整數: 6\n",
            "          ! \n",
            "        ! ! \n",
            "      ! ! ! \n",
            "    ! ! ! ! \n",
            "  ! ! ! ! ! \n",
            "! ! ! ! ! ! \n"
          ]
        }
      ]
    }
  ]
}